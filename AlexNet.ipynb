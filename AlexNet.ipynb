{
 "cells": [
  {
   "cell_type": "markdown",
   "metadata": {
    "colab_type": "text",
    "id": "kBXyG54I-KPL"
   },
   "source": [
    "# Implementation of AlexNet\n",
    "\n",
    "We will use the [tensorflow.keras Functional API](https://www.tensorflow.org/guide/keras/functional) to build AlexNet from the original paper: “[ImageNet Classification with Deep Convolutional\n",
    "Neural Networks](https://papers.nips.cc/paper/4824-imagenet-classification-with-deep-convolutional-neural-networks.pdf)” by Alex Krizhevsky, Ilya Sutskever and Geoffrey E. Hinton.\n",
    "\n",
    "\n",
    "## Network architecture\n",
    "\n",
    "- The network consists of 5 *Convolutional* layers and 3 *Fully Connected* Layers (**[ix]**)\n",
    "\n",
    "- *Max Pooling* is applied Between the layers:\n",
    " - 1conv-2conv (**[v]**)\n",
    " - 2conv-3conv (**[vi]**)\n",
    " - 5conv-1fc (**[ix]**)\n",
    "\n",
    "- Before Max Pooling a normalization technique is applied. At the paper a normalization method named LRN (Local Response Normalization) was used. However, since LRN is not part of the standard *tensorflow.keras* library and it is not in the scope of this section to teach how to write custom layers, we will use another method instead. We chose to replace LRN with *Batch Normalization* for this example.\n",
    "\n",
    "---\n",
    "\n",
    "## Workflow\n",
    "We will:\n",
    "1. import the neccesary layers\n",
    "2. demonstrate how tensors and tf.keras layers work \n",
    "3. write the code for the first block\n",
    "4. write the code for the blocks 2-5 (*Convolution blocks*)\n",
    "5. write the code for the hidden *Fully Connected blocks*\n",
    "6. write the code for the output *Fully Connected blocks*\n",
    "7. build the model\n",
    "\n",
    "---\n",
    "\n",
    "### 1. Imports"
   ]
  },
  {
   "cell_type": "code",
   "execution_count": 0,
   "metadata": {
    "colab": {},
    "colab_type": "code",
    "id": "Pd1JYxKX-fJE"
   },
   "outputs": [],
   "source": [
    "from tensorflow.keras.layers import Input, Conv2D, \\\n",
    "     BatchNormalization, MaxPool2D, Flatten, Dense, Dropout"
   ]
  },
  {
   "cell_type": "markdown",
   "metadata": {
    "colab_type": "text",
    "id": "f4NV3s7G-j0j"
   },
   "source": [
    "### 2. *Tensors* and *Layers*\n",
    "The idea is to build a graph of tensors which are connected through layers. We will start with the input tensor which is created by an `Input()` layer.\n",
    "\n",
    "In the `Input()` layer we have to define the *shape* of the input object (e.g. a numpy array)."
   ]
  },
  {
   "cell_type": "code",
   "execution_count": 0,
   "metadata": {
    "colab": {},
    "colab_type": "code",
    "id": "nLJN10mY-qhx"
   },
   "outputs": [],
   "source": [
    "input = Input(shape=(224, 224, 3))"
   ]
  },
  {
   "cell_type": "markdown",
   "metadata": {
    "colab_type": "text",
    "id": "ysP5ioE--s0g"
   },
   "source": [
    "`input` is a tensorflow Tensor object:"
   ]
  },
  {
   "cell_type": "code",
   "execution_count": 0,
   "metadata": {
    "colab": {
     "base_uri": "https://localhost:8080/",
     "height": 33
    },
    "colab_type": "code",
    "id": "T8fGzLGY-xSt",
    "outputId": "d5d5772e-8024-4b9b-9479-2d3bbcddffd1"
   },
   "outputs": [
    {
     "data": {
      "text/plain": [
       "tensorflow.python.framework.ops.Tensor"
      ]
     },
     "execution_count": 3,
     "metadata": {
      "tags": []
     },
     "output_type": "execute_result"
    }
   ],
   "source": [
    "type(input)"
   ]
  },
  {
   "cell_type": "markdown",
   "metadata": {
    "colab_type": "text",
    "id": "6DPtL9Oy-8Wr"
   },
   "source": [
    "### 3. 1st block\n",
    "Now we can pass this tensor to another *layer* object and the output will be another tensor.\n",
    "\n",
    "The first layer that we will apply is a *Convolutional* layer (`Conv2D()`)\n",
    "\n",
    "In this layer we will pass:\n",
    "- the number of filters\n",
    "- the kernel size\n",
    "- the strides\n",
    "- the padding\n",
    "- the activation function\n",
    "\n",
    "From the paper:\n",
    "\n",
    ">The first convolutional layer filters the 224×224×3 input image with **96 kernels** of size **11×11**×3 with a **stride of 4** pixels (**[iv]**)\n",
    "\n",
    ">The **ReLU** non-linearity is applied to the output of every convolutional and fully-connected layer (**[i]**)\n",
    "\n",
    "*Note: at each reference we mark with **bold** the parts that are informative for the coding of the corresponding block.*"
   ]
  },
  {
   "cell_type": "code",
   "execution_count": 0,
   "metadata": {
    "colab": {},
    "colab_type": "code",
    "id": "lsAYDOpl_B38"
   },
   "outputs": [],
   "source": [
    "x = Conv2D(filters=96,\n",
    "          kernel_size=11,\n",
    "          strides=4,\n",
    "          padding='same',\n",
    "          activation='relu')(input)  # 1st convolutional layer"
   ]
  },
  {
   "cell_type": "markdown",
   "metadata": {
    "colab_type": "text",
    "id": "lFT1-Vqo_E4W"
   },
   "source": [
    "Before the second Convolutional layer we have to normalize and pool the output of the first Convolutional layer:\n",
    "\n",
    "> \"The second convolutional layer takes as input the (**response-normalized and pooled**) output of the first convolutional layer\" (**[v]**)\n",
    "\n",
    "Regarding the `MaxPool2D()` layer we have to pass:\n",
    "\n",
    "- the pool size\n",
    "- the strides\n",
    "\n",
    "\n",
    "From the paper:\n",
    "\n",
    ">If we set s < z, we obtain overlapping pooling. This is what we use throughout our network, with **s = 2 and z = 3** (**[iii]**)"
   ]
  },
  {
   "cell_type": "code",
   "execution_count": 0,
   "metadata": {
    "colab": {},
    "colab_type": "code",
    "id": "We9HLInT_Mdf"
   },
   "outputs": [],
   "source": [
    "x = BatchNormalization()(x)\n",
    "x = MaxPool2D(pool_size=3, strides=2)(x)"
   ]
  },
  {
   "cell_type": "markdown",
   "metadata": {
    "colab_type": "text",
    "id": "d0LbZxkI_RaN"
   },
   "source": [
    "Notice that it is ok to use the same name `x` for the output tensor of different layers as long as we implement with the correct order.\n",
    "\n",
    "<br>\n",
    "\n",
    "So the first block is now:\n",
    "\n",
    "```python\n",
    "x = Conv2D(filters=96,\n",
    "          kernel_size=11,\n",
    "          strides=4,\n",
    "          padding='same',\n",
    "          activation='relu')(input)  # 1st convolutional layer\n",
    "\n",
    "x = BatchNormalization()(x)\n",
    "x = MaxPool2D(pool_size=3, strides=2)(x)\n",
    "```"
   ]
  },
  {
   "cell_type": "markdown",
   "metadata": {
    "colab_type": "text",
    "id": "hIYX3i4Z_V61"
   },
   "source": [
    "### 4. 2nd-5th block\n",
    "\n",
    "From the paper:\n",
    "\n",
    ">The **second** convolutional layer takes as input the (response-normalized and pooled) output of the first convolutional layer and filters it with **256 kernels of size 5 × 5** × 48 (**[v]**)\n",
    "\n",
    "*Note: The **48** as the size of the last dimension of the kernel is technically 96 in our case. This is because the input tensor has 96 feature maps, equal to the number of kernels of the previous layer. However, since the original network was implemented in two GPUs in parallel, each one had 48 feature maps at this stage.*"
   ]
  },
  {
   "cell_type": "code",
   "execution_count": 0,
   "metadata": {
    "colab": {},
    "colab_type": "code",
    "id": "NpdrlVEn_VWi"
   },
   "outputs": [],
   "source": [
    "x = Conv2D(filters=256,\n",
    "          kernel_size=5,\n",
    "          padding='same',\n",
    "          activation='relu')(x)  # 2nd convolutional layer"
   ]
  },
  {
   "cell_type": "markdown",
   "metadata": {
    "colab_type": "text",
    "id": "TLkfnk-e_cPo"
   },
   "source": [
    "From the paper:\n",
    "\n",
    ">The **third** convolutional layer has **384 kernels of size 3 × 3** × 256 connected to the (**normalized, pooled**) outputs of the second convolutional layer. (**[vi]**)"
   ]
  },
  {
   "cell_type": "code",
   "execution_count": 0,
   "metadata": {
    "colab": {},
    "colab_type": "code",
    "id": "rjgGCGq__c3a"
   },
   "outputs": [],
   "source": [
    "x = BatchNormalization()(x)\n",
    "x = MaxPool2D(pool_size=3, strides=2)(x)\n",
    "\n",
    "x = Conv2D(filters=384,\n",
    "          kernel_size=3,\n",
    "          padding='same',\n",
    "          activation='relu')(x)  # 3rd convolutional layer"
   ]
  },
  {
   "cell_type": "markdown",
   "metadata": {
    "colab_type": "text",
    "id": "6QXcQo1d_kg1"
   },
   "source": [
    "From the paper:\n",
    "\n",
    ">The **fourth** convolutional layer has **384 kernels of size 3 × 3** × 192 (**[vii]**)"
   ]
  },
  {
   "cell_type": "code",
   "execution_count": 0,
   "metadata": {
    "colab": {},
    "colab_type": "code",
    "id": "SxHR4Lds_njb"
   },
   "outputs": [],
   "source": [
    "x = Conv2D(filters=384,\n",
    "          kernel_size=3,\n",
    "          padding='same',\n",
    "          activation='relu')(x)  # 4th convolutional layer"
   ]
  },
  {
   "cell_type": "markdown",
   "metadata": {
    "colab_type": "text",
    "id": "8IULi3Ec_oM7"
   },
   "source": [
    "From the paper:\n",
    "\n",
    ">the **fifth** convolutional layer has **256 kernels of size 3 × 3** × 192. (**[vii]**)"
   ]
  },
  {
   "cell_type": "code",
   "execution_count": 0,
   "metadata": {
    "colab": {},
    "colab_type": "code",
    "id": "GwFe9dI8_rh2"
   },
   "outputs": [],
   "source": [
    "x = Conv2D(filters=256,\n",
    "          kernel_size=3,\n",
    "          padding='same',\n",
    "          activation='relu')(x)  # 5th convolutional layer\n",
    "\n",
    "x = BatchNormalization()(x)\n",
    "x = MaxPool2D(pool_size=3, strides=2)(x)"
   ]
  },
  {
   "cell_type": "markdown",
   "metadata": {
    "colab_type": "text",
    "id": "HaMHzA-x_tsP"
   },
   "source": [
    "### 5. Dense layers\n",
    "\n",
    "Before passing the output tensor of the last Convolutional layer (13x13x256) to the first `Dense()` layer we have to flatten it to a one-dimension tensor. We do it by using the `Flatten()` layer.\n",
    "\n",
    "*Note: you may find the (one-dimension) tensors to also be called vectors. We use the word tensor as reference to the tensorflow.Tensor object of which it is an instance.*\n",
    "\n",
    "From the paper:\n",
    "\n",
    ">The **fully-connected** layers have **4096** neurons each (**[vii]**)\n",
    ">Dropout with drop probability 0.5 is used after the first 2 Fully Connected layers (**[viii]**)"
   ]
  },
  {
   "cell_type": "code",
   "execution_count": 0,
   "metadata": {
    "colab": {},
    "colab_type": "code",
    "id": "cS89xZOC_xry"
   },
   "outputs": [],
   "source": [
    "x = Flatten()(x)\n",
    "x = Dense(units=4096, activation='relu')(x)\n",
    "x = Dense(units=4096, activation='relu')(x)\n",
    "x = Dropout(rate=0.5)(x)"
   ]
  },
  {
   "cell_type": "markdown",
   "metadata": {
    "colab_type": "text",
    "id": "Xf7tEuxs_1gv"
   },
   "source": [
    "### 6. Output layer\n",
    "\n",
    "Since the model is to be used for classifiction tasks, the output of the model will be a `Dense()` layer with:\n",
    "- number of units equal to the number of classes in our task which are 1000 based on **[ix]**\n",
    "- `softmax` actication if we target to only one class per image"
   ]
  },
  {
   "cell_type": "code",
   "execution_count": 0,
   "metadata": {
    "colab": {},
    "colab_type": "code",
    "id": "my0-CROq_4Qn"
   },
   "outputs": [],
   "source": [
    "output = Dense(units=1000, activation='softmax')(x)"
   ]
  },
  {
   "cell_type": "markdown",
   "metadata": {
    "colab_type": "text",
    "id": "M7hzw3yI_6oa"
   },
   "source": [
    "### 7. Model\n",
    "\n",
    "In order to build the *model* we will use the `tensorflow.keras.Model` object:"
   ]
  },
  {
   "cell_type": "code",
   "execution_count": 0,
   "metadata": {
    "colab": {},
    "colab_type": "code",
    "id": "Ow-mbDfd_8ul"
   },
   "outputs": [],
   "source": [
    "from tensorflow.keras import Model"
   ]
  },
  {
   "cell_type": "markdown",
   "metadata": {
    "colab_type": "text",
    "id": "X8LBuT7Z_-Wf"
   },
   "source": [
    "To define the model we need the input tensor(s) and the output tensor(s)."
   ]
  },
  {
   "cell_type": "code",
   "execution_count": 0,
   "metadata": {
    "colab": {},
    "colab_type": "code",
    "id": "0Rx83M3AABz2"
   },
   "outputs": [],
   "source": [
    "model = Model(inputs=input, outputs=output)"
   ]
  },
  {
   "cell_type": "markdown",
   "metadata": {
    "colab_type": "text",
    "id": "spWYEcwiADKG"
   },
   "source": [
    "## Final code"
   ]
  },
  {
   "cell_type": "code",
   "execution_count": 0,
   "metadata": {
    "colab": {},
    "colab_type": "code",
    "id": "1NhGnPrnAKIj"
   },
   "outputs": [],
   "source": [
    "from tensorflow.keras.layers import Input, Conv2D, \\\n",
    "     BatchNormalization, MaxPool2D, Flatten, Dense, Dropout\n",
    "\n",
    "input = Input(shape=(224, 224, 3))\n",
    "\n",
    "x = Conv2D(filters=96,\n",
    "           kernel_size=11,\n",
    "           strides=4,\n",
    "           padding='same',\n",
    "           activation='relu')(input)  # 1st convolutional layer\n",
    "x = BatchNormalization()(x)\n",
    "x = MaxPool2D(pool_size=3, strides=2)(x)\n",
    "\n",
    "x = Conv2D(filters=256,\n",
    "           kernel_size=5,\n",
    "           padding='same',\n",
    "           activation='relu')(x)  # 2nd convolutional layer\n",
    "x = BatchNormalization()(x)\n",
    "x = MaxPool2D(pool_size=3, strides=2)(x)\n",
    "\n",
    "x = Conv2D(filters=384,\n",
    "           kernel_size=3,\n",
    "           padding='same',\n",
    "           activation='relu')(x)  # 3rd convolutional layer\n",
    "\n",
    "x = Conv2D(filters=384,\n",
    "           kernel_size=3,\n",
    "           padding='same',\n",
    "           activation='relu')(x)  # 4th convolutional layer\n",
    "\n",
    "x = Conv2D(filters=256,\n",
    "           kernel_size=3,\n",
    "           padding='same',\n",
    "           activation='relu')(x)  # 5th convolutional layer\n",
    "x = BatchNormalization()(x)\n",
    "x = MaxPool2D(pool_size=3, strides=2)(x)\n",
    "\n",
    "x = Flatten()(x)\n",
    "x = Dense(units=4096, activation='relu')(x)\n",
    "x = Dense(units=4096, activation='relu')(x)\n",
    "x = Dropout(rate=0.5)(x)\n",
    "\n",
    "output = Dense(units=1000, activation='softmax')(x)\n",
    "\n",
    "from tensorflow.keras import Model\n",
    "\n",
    "model = Model(inputs=input, outputs=output)"
   ]
  }
 ],
 "metadata": {
  "colab": {
   "authorship_tag": "ABX9TyPUfSxuMTSuG+atU3HeoOWp",
   "collapsed_sections": [],
   "include_colab_link": true,
   "name": "AlexNet_implementation.ipynb",
   "provenance": []
  },
  "kernelspec": {
   "display_name": "Python 3",
   "language": "python",
   "name": "python3"
  },
  "language_info": {
   "codemirror_mode": {
    "name": "ipython",
    "version": 3
   },
   "file_extension": ".py",
   "mimetype": "text/x-python",
   "name": "python",
   "nbconvert_exporter": "python",
   "pygments_lexer": "ipython3",
   "version": "3.7.10"
  }
 },
 "nbformat": 4,
 "nbformat_minor": 1
}
